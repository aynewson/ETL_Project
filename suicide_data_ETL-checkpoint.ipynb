{
 "cells": [
  {
   "cell_type": "code",
   "execution_count": 400,
   "metadata": {},
   "outputs": [],
   "source": [
    "import pandas as pd\n",
    "from bs4 import BeautifulSoup\n",
    "import os\n",
    "import requests\n",
    "import pandas as pd\n",
    "import requests\n",
    "import pymysql\n",
    "\n",
    "# SQL Alchemy\n",
    "import sqlalchemy\n",
    "from sqlalchemy import create_engine, inspect, func \n",
    "from sqlalchemy.ext.automap import automap_base\n",
    "from sqlalchemy.orm import Session\n",
    "import numpy as np\n",
    "\n",
    "# import api_key from config file\n",
    "from config import *"
   ]
  },
  {
   "cell_type": "code",
   "execution_count": 401,
   "metadata": {},
   "outputs": [],
   "source": [
    "\n",
    "csv_file = \"int_suicide_data.csv\"\n",
    "country_data_df = pd.read_csv(csv_file)\n",
    "#country_data_df.head()   # Debug statement"
   ]
  },
  {
   "cell_type": "code",
   "execution_count": 402,
   "metadata": {},
   "outputs": [],
   "source": [
    "#EF edit--dropped 'sex' column\n",
    "new_country_data = country_data_df[['country', 'year', 'age', 'suicides_no']].copy()\n",
    "#new_country_data.head()   # Debug statement"
   ]
  },
  {
   "cell_type": "code",
   "execution_count": 403,
   "metadata": {},
   "outputs": [],
   "source": [
    "US_suicide = new_country_data[new_country_data[\"country\"]== \"United States\"]\n",
    "#US_suicide.head()   # Debug statement"
   ]
  },
  {
   "cell_type": "code",
   "execution_count": 404,
   "metadata": {},
   "outputs": [],
   "source": [
    "age_suicide = US_suicide[US_suicide[\"age\"]==\"15-24 years\"]\n",
    "\n",
    "#age_suicide.head()   #Debug statement"
   ]
  },
  {
   "cell_type": "code",
   "execution_count": 405,
   "metadata": {},
   "outputs": [],
   "source": [
    "year_suicide = age_suicide[(age_suicide.year == 1999) | (age_suicide.year == 2000) | (age_suicide.year == 2001)| (age_suicide.year == 2002)| (age_suicide.year == 2003)\n",
    "           | (age_suicide.year == 2004)| (age_suicide.year == 2005)| (age_suicide.year == 2006)| (age_suicide.year == 2007)\n",
    "           | (age_suicide.year == 2008)| (age_suicide.year == 2009)| (age_suicide.year == 2010)| (age_suicide.year == 2011)\n",
    "           | (age_suicide.year == 2012)| (age_suicide.year == 2013)| (age_suicide.year == 2014)| (age_suicide.year == 2015)\n",
    "           | (age_suicide.year == 2016)]\n",
    "\n",
    "#year_suicide   #Debug statement"
   ]
  },
  {
   "cell_type": "code",
   "execution_count": 406,
   "metadata": {},
   "outputs": [],
   "source": [
    "groupby_year_df = year_suicide.groupby(['year']).sum()\n",
    "#groupby_year_df   #Debug statement"
   ]
  },
  {
   "cell_type": "code",
   "execution_count": 407,
   "metadata": {},
   "outputs": [],
   "source": [
    "########################################\n",
    "# SQLAlchemy for international data CSV\n",
    "########################################\n",
    "\n",
    "\n",
    "engine = create_engine(\"mysql+pymysql://root:\"+ pw + \"@localhost/\")\n",
    "conn = engine.connect()"
   ]
  },
  {
   "cell_type": "code",
   "execution_count": 409,
   "metadata": {},
   "outputs": [
    {
     "data": {
      "text/plain": [
       "<sqlalchemy.engine.result.ResultProxy at 0x115805eb8>"
      ]
     },
     "execution_count": 409,
     "metadata": {},
     "output_type": "execute_result"
    }
   ],
   "source": [
    "drop_db = 'DROP DATABASE IF EXISTS suicide_data_db;'\n",
    "engine.execute(drop_db)"
   ]
  },
  {
   "cell_type": "code",
   "execution_count": 410,
   "metadata": {},
   "outputs": [
    {
     "data": {
      "text/plain": [
       "<sqlalchemy.engine.result.ResultProxy at 0x115805400>"
      ]
     },
     "execution_count": 410,
     "metadata": {},
     "output_type": "execute_result"
    }
   ],
   "source": [
    "#Create DB\n",
    "create_db = 'CREATE DATABASE suicide_data_db;'\n",
    "use_db = 'USE suicide_data_db;'\n",
    "\n",
    "engine.execute(create_db)\n",
    "engine.execute(use_db)\n"
   ]
  },
  {
   "cell_type": "code",
   "execution_count": 412,
   "metadata": {},
   "outputs": [
    {
     "name": "stderr",
     "output_type": "stream",
     "text": [
      "/Users/emmanuelfabre/anaconda3/lib/python3.7/site-packages/pymysql/cursors.py:170: Warning: (1051, \"Unknown table 'suicide_data_db.intl_suicide_data'\")\n",
      "  result = self._query(query)\n"
     ]
    }
   ],
   "source": [
    "# Drop table suicide_data_db.suicide_data_us if exists already\n",
    "drop_cdt = 'DROP TABLE IF EXISTS intl_suicide_data;'\n",
    "engine.execute(drop_cdt)\n",
    "\n",
    "# Create table suicide_data_db.year_suicide from year_suicide dataframe\n",
    "groupby_year_df.to_sql('intl_suicide_data', con=engine)"
   ]
  },
  {
   "cell_type": "code",
   "execution_count": 413,
   "metadata": {},
   "outputs": [],
   "source": [
    "###### Data scrape html file of US CDC Suicide Data Per State ######"
   ]
  },
  {
   "cell_type": "code",
   "execution_count": 414,
   "metadata": {},
   "outputs": [],
   "source": [
    "# URL of page to be scraped\n",
    "url = \"CDC_Suicide_Query.html\""
   ]
  },
  {
   "cell_type": "code",
   "execution_count": 415,
   "metadata": {},
   "outputs": [],
   "source": [
    "#Convert html table to pandas table\n",
    "#the tables are returned as a list. It gives you a list of DFs (near the top) generated from the table elements in the html. \n",
    "\n",
    "tables = pd.read_html(url)\n",
    "#tables   # Debug statement"
   ]
  },
  {
   "cell_type": "code",
   "execution_count": 416,
   "metadata": {},
   "outputs": [],
   "source": [
    "df = tables[0]\n",
    "#df   #Debug statement"
   ]
  },
  {
   "cell_type": "code",
   "execution_count": 417,
   "metadata": {},
   "outputs": [],
   "source": [
    "#List of DF columns\n",
    "#list(df.columns.values)   #Debug statement"
   ]
  },
  {
   "cell_type": "code",
   "execution_count": 418,
   "metadata": {},
   "outputs": [],
   "source": [
    "clean_df = df[['Year', 'Unnamed: 2_level_0', 'State', 'Single-Year Ages', 'Deaths']]\n",
    "clean_df.columns = ['Year', 'State', 'Age', 'Number_of_Suicides', 'Population_of_Age_Group', 'Something', 'Something2']\n",
    "#clean_df   # Debug statement"
   ]
  },
  {
   "cell_type": "code",
   "execution_count": 419,
   "metadata": {},
   "outputs": [],
   "source": [
    "cleaner_df = clean_df.drop(['Something', 'Something2'], 1)\n",
    "cleaner_df['State'] = cleaner_df['State'].str[:-5]\n",
    "#cleaner_df # Debug statement"
   ]
  },
  {
   "cell_type": "code",
   "execution_count": 420,
   "metadata": {},
   "outputs": [],
   "source": [
    "#cleaner_df.dtypes   #Debug statement"
   ]
  },
  {
   "cell_type": "code",
   "execution_count": 389,
   "metadata": {},
   "outputs": [],
   "source": [
    "######################################################\n",
    "# SQLAlchemy for US CDC suicide data from HTML scraper\n",
    "######################################################"
   ]
  },
  {
   "cell_type": "code",
   "execution_count": 421,
   "metadata": {},
   "outputs": [
    {
     "name": "stderr",
     "output_type": "stream",
     "text": [
      "/Users/emmanuelfabre/anaconda3/lib/python3.7/site-packages/pymysql/cursors.py:170: Warning: (1051, \"Unknown table 'suicide_data_db.suicide_data_us'\")\n",
      "  result = self._query(query)\n"
     ]
    }
   ],
   "source": [
    "# drop table suicide_data_db.suicide_data_us if exists already\n",
    "drop_cdt = 'DROP TABLE IF EXISTS suicide_data_us;'\n",
    "engine.execute(drop_cdt)\n",
    "\n",
    "# create table suicide_data_db.suicide_data_us from cleaner_df dataframe\n",
    "cleaner_df.to_sql('suicide_data_us', con=engine)"
   ]
  },
  {
   "cell_type": "code",
   "execution_count": 423,
   "metadata": {},
   "outputs": [
    {
     "data": {
      "text/plain": [
       "<sqlalchemy.engine.result.ResultProxy at 0x11461def0>"
      ]
     },
     "execution_count": 423,
     "metadata": {},
     "output_type": "execute_result"
    }
   ],
   "source": [
    "##### Combine data from international CSV and US CDC html scraper #####\n",
    "\n",
    "# Drop table suicide_data_db.combined_suicide_data if exists already\n",
    "drop_combined_table = 'DROP TABLE IF EXISTS combined_suicide_data;'\n",
    "\n",
    "# Create the table to combine the data\n",
    "create_combined_table = 'CREATE TABLE IF NOT EXISTS combined_suicide_data (\\\n",
    "    state VARCHAR(255),\\\n",
    "    year BIGINT(20), \\\n",
    "    suicides_per_state BIGINT(20),\\\n",
    "    total_suicides_for_year BIGINT(20),\\\n",
    "    percent DECIMAL(5,3)\\\n",
    ") ENGINE=INNODB;'\n",
    "\n",
    "# Insert into combined table summary of US state data\n",
    "insert_us = 'INSERT INTO combined_suicide_data (state, year, suicides_per_state)\\\n",
    "    SELECT State, Year, sum(Number_of_Suicides) FROM suicide_data_db.suicide_data_us\\\n",
    "    GROUP BY State, Year\\\n",
    "    ORDER BY Year;'\n",
    "\n",
    "# Update combined table to include world suicide data per year\n",
    "insert_intl = 'UPDATE combined_suicide_data c, intl_suicide_data i\\\n",
    "    SET c.total_suicides_for_year = i.suicides_no\\\n",
    "    WHERE c.year = i.year;'\n",
    "\n",
    "# Calculate percentage of suicide per state \n",
    "percentage = 'UPDATE combined_suicide_data\\\n",
    "    SET percent = ROUND(suicides_per_state/total_suicides_for_year,3);'\n",
    "\n",
    "# Execute mySql procedures\n",
    "engine.execute(drop_combined_table)\n",
    "engine.execute(create_combined_table)\n",
    "engine.execute(insert_us)\n",
    "engine.execute(insert_intl)\n",
    "engine.execute(percentage)"
   ]
  },
  {
   "cell_type": "code",
   "execution_count": null,
   "metadata": {},
   "outputs": [],
   "source": []
  }
 ],
 "metadata": {
  "kernelspec": {
   "display_name": "Python 3",
   "language": "python",
   "name": "python3"
  },
  "language_info": {
   "codemirror_mode": {
    "name": "ipython",
    "version": 3
   },
   "file_extension": ".py",
   "mimetype": "text/x-python",
   "name": "python",
   "nbconvert_exporter": "python",
   "pygments_lexer": "ipython3",
   "version": "3.7.0"
  }
 },
 "nbformat": 4,
 "nbformat_minor": 2
}
